{
 "cells": [
  {
   "cell_type": "markdown",
   "metadata": {},
   "source": [
    " <font color='Blue'>Name:</font> Shreya Nair \n",
    " \n",
    "<font color='blue'> Email : </font>shreyanair11394@gmail.com, nair.shr@husky.neu.edu"
   ]
  },
  {
   "cell_type": "code",
   "execution_count": 1,
   "metadata": {},
   "outputs": [],
   "source": [
    "#Importing Python Libraries \n",
    "\n",
    "# Draw inline\n",
    "%matplotlib inline\n",
    "\n",
    "import numpy as np\n",
    "import pandas as pd\n",
    "import matplotlib.pyplot as plt\n",
    "import seaborn as sns\n",
    "import datetime"
   ]
  },
  {
   "cell_type": "code",
   "execution_count": 2,
   "metadata": {},
   "outputs": [],
   "source": [
    "my_path = 'C:\\\\Users\\\\shrey\\\\Desktop\\\\ScreeningDS'"
   ]
  },
  {
   "cell_type": "code",
   "execution_count": 3,
   "metadata": {},
   "outputs": [],
   "source": [
    "df = pd.read_csv(f'{my_path}/screening_exercise_orders_v201810.csv')"
   ]
  },
  {
   "cell_type": "code",
   "execution_count": 4,
   "metadata": {},
   "outputs": [
    {
     "data": {
      "text/html": [
       "<div>\n",
       "<style scoped>\n",
       "    .dataframe tbody tr th:only-of-type {\n",
       "        vertical-align: middle;\n",
       "    }\n",
       "\n",
       "    .dataframe tbody tr th {\n",
       "        vertical-align: top;\n",
       "    }\n",
       "\n",
       "    .dataframe thead th {\n",
       "        text-align: right;\n",
       "    }\n",
       "</style>\n",
       "<table border=\"1\" class=\"dataframe\">\n",
       "  <thead>\n",
       "    <tr style=\"text-align: right;\">\n",
       "      <th></th>\n",
       "      <th>customer_id</th>\n",
       "      <th>gender</th>\n",
       "      <th>date</th>\n",
       "      <th>value</th>\n",
       "      <th>predicted_gender</th>\n",
       "    </tr>\n",
       "  </thead>\n",
       "  <tbody>\n",
       "    <tr>\n",
       "      <th>0</th>\n",
       "      <td>1000</td>\n",
       "      <td>0</td>\n",
       "      <td>2017-01-01 00:11:31</td>\n",
       "      <td>198.5</td>\n",
       "      <td>1</td>\n",
       "    </tr>\n",
       "    <tr>\n",
       "      <th>1</th>\n",
       "      <td>1001</td>\n",
       "      <td>0</td>\n",
       "      <td>2017-01-01 00:29:56</td>\n",
       "      <td>338.0</td>\n",
       "      <td>1</td>\n",
       "    </tr>\n",
       "    <tr>\n",
       "      <th>2</th>\n",
       "      <td>1002</td>\n",
       "      <td>1</td>\n",
       "      <td>2017-01-01 01:30:31</td>\n",
       "      <td>733.0</td>\n",
       "      <td>1</td>\n",
       "    </tr>\n",
       "    <tr>\n",
       "      <th>3</th>\n",
       "      <td>1003</td>\n",
       "      <td>1</td>\n",
       "      <td>2017-01-01 01:34:22</td>\n",
       "      <td>772.0</td>\n",
       "      <td>1</td>\n",
       "    </tr>\n",
       "    <tr>\n",
       "      <th>4</th>\n",
       "      <td>1004</td>\n",
       "      <td>0</td>\n",
       "      <td>2017-01-01 03:11:54</td>\n",
       "      <td>508.0</td>\n",
       "      <td>1</td>\n",
       "    </tr>\n",
       "  </tbody>\n",
       "</table>\n",
       "</div>"
      ],
      "text/plain": [
       "   customer_id  gender                 date  value  predicted_gender\n",
       "0         1000       0  2017-01-01 00:11:31  198.5                 1\n",
       "1         1001       0  2017-01-01 00:29:56  338.0                 1\n",
       "2         1002       1  2017-01-01 01:30:31  733.0                 1\n",
       "3         1003       1  2017-01-01 01:34:22  772.0                 1\n",
       "4         1004       0  2017-01-01 03:11:54  508.0                 1"
      ]
     },
     "execution_count": 4,
     "metadata": {},
     "output_type": "execute_result"
    }
   ],
   "source": [
    "df.head()"
   ]
  },
  {
   "cell_type": "code",
   "execution_count": 5,
   "metadata": {},
   "outputs": [
    {
     "name": "stdout",
     "output_type": "stream",
     "text": [
      "<class 'pandas.core.frame.DataFrame'>\n",
      "RangeIndex: 13471 entries, 0 to 13470\n",
      "Data columns (total 5 columns):\n",
      "customer_id         13471 non-null int64\n",
      "gender              13471 non-null int64\n",
      "date                13471 non-null object\n",
      "value               13471 non-null float64\n",
      "predicted_gender    13471 non-null int64\n",
      "dtypes: float64(1), int64(3), object(1)\n",
      "memory usage: 526.3+ KB\n"
     ]
    }
   ],
   "source": [
    "df.info()"
   ]
  },
  {
   "cell_type": "markdown",
   "metadata": {},
   "source": [
    "#### A) Assemble a dataframe with one row per customer and the following columns:\n",
    "    * customer_id\n",
    "    * gender\n",
    "    * most_recent_order_date\n",
    "    * order_count (number of orders placed by this customer)\n",
    "   Sort the dataframe by customer_id ascending and display the first 10 rows."
   ]
  },
  {
   "cell_type": "code",
   "execution_count": 6,
   "metadata": {},
   "outputs": [
    {
     "name": "stdout",
     "output_type": "stream",
     "text": [
      "True\n"
     ]
    }
   ],
   "source": [
    "# Checking for Duplicate entries as a Data Pre-processing step\n",
    "print(any(df.duplicated('customer_id')))  "
   ]
  },
  {
   "cell_type": "code",
   "execution_count": 7,
   "metadata": {},
   "outputs": [
    {
     "data": {
      "text/plain": [
       "0     False\n",
       "1     False\n",
       "2     False\n",
       "3     False\n",
       "4     False\n",
       "5     False\n",
       "6     False\n",
       "7     False\n",
       "8     False\n",
       "9     False\n",
       "10    False\n",
       "11    False\n",
       "12    False\n",
       "13    False\n",
       "14    False\n",
       "15    False\n",
       "16    False\n",
       "17    False\n",
       "18    False\n",
       "19     True\n",
       "20    False\n",
       "21    False\n",
       "22    False\n",
       "23    False\n",
       "24    False\n",
       "dtype: bool"
      ]
     },
     "execution_count": 7,
     "metadata": {},
     "output_type": "execute_result"
    }
   ],
   "source": [
    "df.duplicated('customer_id')[:25]"
   ]
  },
  {
   "cell_type": "code",
   "execution_count": 8,
   "metadata": {},
   "outputs": [],
   "source": [
    " ids = df[\"customer_id\"]\n"
   ]
  },
  {
   "cell_type": "code",
   "execution_count": 9,
   "metadata": {},
   "outputs": [
    {
     "data": {
      "text/html": [
       "<div>\n",
       "<style scoped>\n",
       "    .dataframe tbody tr th:only-of-type {\n",
       "        vertical-align: middle;\n",
       "    }\n",
       "\n",
       "    .dataframe tbody tr th {\n",
       "        vertical-align: top;\n",
       "    }\n",
       "\n",
       "    .dataframe thead th {\n",
       "        text-align: right;\n",
       "    }\n",
       "</style>\n",
       "<table border=\"1\" class=\"dataframe\">\n",
       "  <thead>\n",
       "    <tr style=\"text-align: right;\">\n",
       "      <th></th>\n",
       "      <th>customer_id</th>\n",
       "      <th>gender</th>\n",
       "      <th>date</th>\n",
       "      <th>value</th>\n",
       "      <th>predicted_gender</th>\n",
       "    </tr>\n",
       "  </thead>\n",
       "  <tbody>\n",
       "    <tr>\n",
       "      <th>2</th>\n",
       "      <td>1002</td>\n",
       "      <td>1</td>\n",
       "      <td>2017-01-01 01:30:31</td>\n",
       "      <td>733.00</td>\n",
       "      <td>1</td>\n",
       "    </tr>\n",
       "    <tr>\n",
       "      <th>3</th>\n",
       "      <td>1003</td>\n",
       "      <td>1</td>\n",
       "      <td>2017-01-01 01:34:22</td>\n",
       "      <td>772.00</td>\n",
       "      <td>1</td>\n",
       "    </tr>\n",
       "    <tr>\n",
       "      <th>5</th>\n",
       "      <td>1005</td>\n",
       "      <td>1</td>\n",
       "      <td>2017-01-01 10:08:05</td>\n",
       "      <td>338.00</td>\n",
       "      <td>0</td>\n",
       "    </tr>\n",
       "    <tr>\n",
       "      <th>6</th>\n",
       "      <td>1006</td>\n",
       "      <td>1</td>\n",
       "      <td>2017-01-01 15:42:57</td>\n",
       "      <td>1526.43</td>\n",
       "      <td>1</td>\n",
       "    </tr>\n",
       "    <tr>\n",
       "      <th>8</th>\n",
       "      <td>1008</td>\n",
       "      <td>0</td>\n",
       "      <td>2017-01-01 18:01:04</td>\n",
       "      <td>207.99</td>\n",
       "      <td>0</td>\n",
       "    </tr>\n",
       "    <tr>\n",
       "      <th>10</th>\n",
       "      <td>1010</td>\n",
       "      <td>1</td>\n",
       "      <td>2017-01-01 19:41:40</td>\n",
       "      <td>1018.00</td>\n",
       "      <td>1</td>\n",
       "    </tr>\n",
       "    <tr>\n",
       "      <th>15</th>\n",
       "      <td>1015</td>\n",
       "      <td>0</td>\n",
       "      <td>2017-01-02 01:20:53</td>\n",
       "      <td>255.00</td>\n",
       "      <td>0</td>\n",
       "    </tr>\n",
       "    <tr>\n",
       "      <th>17</th>\n",
       "      <td>1017</td>\n",
       "      <td>0</td>\n",
       "      <td>2017-01-02 01:42:44</td>\n",
       "      <td>1000.00</td>\n",
       "      <td>0</td>\n",
       "    </tr>\n",
       "    <tr>\n",
       "      <th>18</th>\n",
       "      <td>1018</td>\n",
       "      <td>0</td>\n",
       "      <td>2017-01-02 01:52:59</td>\n",
       "      <td>274.60</td>\n",
       "      <td>0</td>\n",
       "    </tr>\n",
       "    <tr>\n",
       "      <th>19</th>\n",
       "      <td>1017</td>\n",
       "      <td>0</td>\n",
       "      <td>2017-01-02 02:08:52</td>\n",
       "      <td>186.00</td>\n",
       "      <td>0</td>\n",
       "    </tr>\n",
       "    <tr>\n",
       "      <th>21</th>\n",
       "      <td>1020</td>\n",
       "      <td>0</td>\n",
       "      <td>2017-01-02 02:45:09</td>\n",
       "      <td>456.00</td>\n",
       "      <td>1</td>\n",
       "    </tr>\n",
       "    <tr>\n",
       "      <th>22</th>\n",
       "      <td>1021</td>\n",
       "      <td>1</td>\n",
       "      <td>2017-01-02 03:18:18</td>\n",
       "      <td>421.56</td>\n",
       "      <td>1</td>\n",
       "    </tr>\n",
       "    <tr>\n",
       "      <th>24</th>\n",
       "      <td>1023</td>\n",
       "      <td>0</td>\n",
       "      <td>2017-01-02 04:07:51</td>\n",
       "      <td>10.00</td>\n",
       "      <td>1</td>\n",
       "    </tr>\n",
       "    <tr>\n",
       "      <th>26</th>\n",
       "      <td>1025</td>\n",
       "      <td>0</td>\n",
       "      <td>2017-01-02 05:19:49</td>\n",
       "      <td>301.60</td>\n",
       "      <td>1</td>\n",
       "    </tr>\n",
       "    <tr>\n",
       "      <th>29</th>\n",
       "      <td>1028</td>\n",
       "      <td>0</td>\n",
       "      <td>2017-01-02 16:41:13</td>\n",
       "      <td>161.50</td>\n",
       "      <td>1</td>\n",
       "    </tr>\n",
       "    <tr>\n",
       "      <th>35</th>\n",
       "      <td>1034</td>\n",
       "      <td>1</td>\n",
       "      <td>2017-01-02 19:33:40</td>\n",
       "      <td>89.00</td>\n",
       "      <td>1</td>\n",
       "    </tr>\n",
       "    <tr>\n",
       "      <th>37</th>\n",
       "      <td>1036</td>\n",
       "      <td>0</td>\n",
       "      <td>2017-01-02 20:36:49</td>\n",
       "      <td>447.85</td>\n",
       "      <td>1</td>\n",
       "    </tr>\n",
       "    <tr>\n",
       "      <th>38</th>\n",
       "      <td>1037</td>\n",
       "      <td>0</td>\n",
       "      <td>2017-01-02 21:06:35</td>\n",
       "      <td>499.00</td>\n",
       "      <td>1</td>\n",
       "    </tr>\n",
       "    <tr>\n",
       "      <th>40</th>\n",
       "      <td>1039</td>\n",
       "      <td>0</td>\n",
       "      <td>2017-01-02 22:49:09</td>\n",
       "      <td>295.36</td>\n",
       "      <td>1</td>\n",
       "    </tr>\n",
       "    <tr>\n",
       "      <th>44</th>\n",
       "      <td>1043</td>\n",
       "      <td>1</td>\n",
       "      <td>2017-01-03 01:02:01</td>\n",
       "      <td>229.74</td>\n",
       "      <td>1</td>\n",
       "    </tr>\n",
       "  </tbody>\n",
       "</table>\n",
       "</div>"
      ],
      "text/plain": [
       "    customer_id  gender                 date    value  predicted_gender\n",
       "2          1002       1  2017-01-01 01:30:31   733.00                 1\n",
       "3          1003       1  2017-01-01 01:34:22   772.00                 1\n",
       "5          1005       1  2017-01-01 10:08:05   338.00                 0\n",
       "6          1006       1  2017-01-01 15:42:57  1526.43                 1\n",
       "8          1008       0  2017-01-01 18:01:04   207.99                 0\n",
       "10         1010       1  2017-01-01 19:41:40  1018.00                 1\n",
       "15         1015       0  2017-01-02 01:20:53   255.00                 0\n",
       "17         1017       0  2017-01-02 01:42:44  1000.00                 0\n",
       "18         1018       0  2017-01-02 01:52:59   274.60                 0\n",
       "19         1017       0  2017-01-02 02:08:52   186.00                 0\n",
       "21         1020       0  2017-01-02 02:45:09   456.00                 1\n",
       "22         1021       1  2017-01-02 03:18:18   421.56                 1\n",
       "24         1023       0  2017-01-02 04:07:51    10.00                 1\n",
       "26         1025       0  2017-01-02 05:19:49   301.60                 1\n",
       "29         1028       0  2017-01-02 16:41:13   161.50                 1\n",
       "35         1034       1  2017-01-02 19:33:40    89.00                 1\n",
       "37         1036       0  2017-01-02 20:36:49   447.85                 1\n",
       "38         1037       0  2017-01-02 21:06:35   499.00                 1\n",
       "40         1039       0  2017-01-02 22:49:09   295.36                 1\n",
       "44         1043       1  2017-01-03 01:02:01   229.74                 1"
      ]
     },
     "execution_count": 9,
     "metadata": {},
     "output_type": "execute_result"
    }
   ],
   "source": [
    "df[ids.isin(ids[ids.duplicated()])][:20]"
   ]
  },
  {
   "cell_type": "code",
   "execution_count": 10,
   "metadata": {},
   "outputs": [],
   "source": [
    "# most recent date of order\n",
    "order = df.groupby(['customer_id','gender'], sort=False)['date'].max()\n"
   ]
  },
  {
   "cell_type": "code",
   "execution_count": 11,
   "metadata": {},
   "outputs": [],
   "source": [
    "\n",
    "order_df = order.to_frame().reset_index()"
   ]
  },
  {
   "cell_type": "code",
   "execution_count": 12,
   "metadata": {},
   "outputs": [],
   "source": [
    "order_df.columns = ['customer_id','gender','most_recent_order_date']\n"
   ]
  },
  {
   "cell_type": "code",
   "execution_count": 13,
   "metadata": {},
   "outputs": [],
   "source": [
    "order_count = df['customer_id'].value_counts()\n",
    "\n",
    "# converting series to dataframe and resetting index\n",
    "order_count_df = order_count.to_frame().reset_index()\n",
    "\n",
    "# renaming column names\n",
    "order_count_df.columns = ['customer_id','order_count']"
   ]
  },
  {
   "cell_type": "code",
   "execution_count": 14,
   "metadata": {},
   "outputs": [
    {
     "data": {
      "text/html": [
       "<div>\n",
       "<style scoped>\n",
       "    .dataframe tbody tr th:only-of-type {\n",
       "        vertical-align: middle;\n",
       "    }\n",
       "\n",
       "    .dataframe tbody tr th {\n",
       "        vertical-align: top;\n",
       "    }\n",
       "\n",
       "    .dataframe thead th {\n",
       "        text-align: right;\n",
       "    }\n",
       "</style>\n",
       "<table border=\"1\" class=\"dataframe\">\n",
       "  <thead>\n",
       "    <tr style=\"text-align: right;\">\n",
       "      <th></th>\n",
       "      <th>customer_id</th>\n",
       "      <th>order_count</th>\n",
       "    </tr>\n",
       "  </thead>\n",
       "  <tbody>\n",
       "    <tr>\n",
       "      <th>4072</th>\n",
       "      <td>1000</td>\n",
       "      <td>1</td>\n",
       "    </tr>\n",
       "    <tr>\n",
       "      <th>5098</th>\n",
       "      <td>1001</td>\n",
       "      <td>1</td>\n",
       "    </tr>\n",
       "    <tr>\n",
       "      <th>508</th>\n",
       "      <td>1002</td>\n",
       "      <td>3</td>\n",
       "    </tr>\n",
       "    <tr>\n",
       "      <th>467</th>\n",
       "      <td>1003</td>\n",
       "      <td>4</td>\n",
       "    </tr>\n",
       "    <tr>\n",
       "      <th>7322</th>\n",
       "      <td>1004</td>\n",
       "      <td>1</td>\n",
       "    </tr>\n",
       "    <tr>\n",
       "      <th>1631</th>\n",
       "      <td>1005</td>\n",
       "      <td>2</td>\n",
       "    </tr>\n",
       "    <tr>\n",
       "      <th>886</th>\n",
       "      <td>1006</td>\n",
       "      <td>3</td>\n",
       "    </tr>\n",
       "    <tr>\n",
       "      <th>6205</th>\n",
       "      <td>1007</td>\n",
       "      <td>1</td>\n",
       "    </tr>\n",
       "    <tr>\n",
       "      <th>514</th>\n",
       "      <td>1008</td>\n",
       "      <td>3</td>\n",
       "    </tr>\n",
       "    <tr>\n",
       "      <th>5128</th>\n",
       "      <td>1009</td>\n",
       "      <td>1</td>\n",
       "    </tr>\n",
       "  </tbody>\n",
       "</table>\n",
       "</div>"
      ],
      "text/plain": [
       "      customer_id  order_count\n",
       "4072         1000            1\n",
       "5098         1001            1\n",
       "508          1002            3\n",
       "467          1003            4\n",
       "7322         1004            1\n",
       "1631         1005            2\n",
       "886          1006            3\n",
       "6205         1007            1\n",
       "514          1008            3\n",
       "5128         1009            1"
      ]
     },
     "execution_count": 14,
     "metadata": {},
     "output_type": "execute_result"
    }
   ],
   "source": [
    "#Sort the dataframe by customer_id ascending and display the first 10 rows\n",
    "order_count_df.sort_values('customer_id', ascending=True)[:10]"
   ]
  },
  {
   "cell_type": "markdown",
   "metadata": {},
   "source": [
    "### Sort the dataframe by customer_id ascending and display the first 10 rows"
   ]
  },
  {
   "cell_type": "code",
   "execution_count": 15,
   "metadata": {},
   "outputs": [
    {
     "name": "stdout",
     "output_type": "stream",
     "text": [
      "             gender most_recent_order_date  order_count\n",
      "customer_id                                            \n",
      "1000              0    2017-01-01 00:11:31            1\n",
      "1001              0    2017-01-01 00:29:56            1\n",
      "1002              1    2017-02-19 21:35:31            3\n",
      "1003              1    2017-04-26 02:37:20            4\n",
      "1004              0    2017-01-01 03:11:54            1\n",
      "1005              1    2017-12-16 01:39:27            2\n",
      "1006              1    2017-05-09 15:27:20            3\n",
      "1007              0    2017-01-01 15:59:50            1\n",
      "1008              0    2017-12-17 05:47:48            3\n",
      "1009              1    2017-01-01 19:27:17            1\n"
     ]
    }
   ],
   "source": [
    "customer_dataframe = order_df.set_index('customer_id').join(order_count_df.set_index('customer_id'))\n",
    "print((customer_dataframe)[:10])"
   ]
  },
  {
   "cell_type": "code",
   "execution_count": 16,
   "metadata": {},
   "outputs": [],
   "source": [
    "df['date']= pd.to_datetime(df['date'])"
   ]
  },
  {
   "cell_type": "code",
   "execution_count": 17,
   "metadata": {},
   "outputs": [
    {
     "data": {
      "text/plain": [
       "0   2017-01-01 00:11:31\n",
       "1   2017-01-01 00:29:56\n",
       "2   2017-01-01 01:30:31\n",
       "3   2017-01-01 01:34:22\n",
       "4   2017-01-01 03:11:54\n",
       "5   2017-01-01 10:08:05\n",
       "6   2017-01-01 15:42:57\n",
       "7   2017-01-01 15:59:50\n",
       "8   2017-01-01 18:01:04\n",
       "9   2017-01-01 19:27:17\n",
       "Name: date, dtype: datetime64[ns]"
      ]
     },
     "execution_count": 17,
     "metadata": {},
     "output_type": "execute_result"
    }
   ],
   "source": [
    "df['date'][:10]"
   ]
  },
  {
   "cell_type": "code",
   "execution_count": 18,
   "metadata": {},
   "outputs": [],
   "source": [
    "# converting date to Year_week_number\n",
    "import time\n",
    "from time import gmtime, strftime\n",
    "df['Year_Week_Number'] = df.date.dt.strftime('%Y-%U')\n"
   ]
  },
  {
   "cell_type": "code",
   "execution_count": 19,
   "metadata": {},
   "outputs": [
    {
     "data": {
      "text/plain": [
       "0    2017-01\n",
       "1    2017-01\n",
       "2    2017-01\n",
       "3    2017-01\n",
       "4    2017-01\n",
       "5    2017-01\n",
       "6    2017-01\n",
       "7    2017-01\n",
       "8    2017-01\n",
       "9    2017-01\n",
       "Name: Year_Week_Number, dtype: object"
      ]
     },
     "execution_count": 19,
     "metadata": {},
     "output_type": "execute_result"
    }
   ],
   "source": [
    "df['Year_Week_Number'][:10]"
   ]
  },
  {
   "cell_type": "code",
   "execution_count": 20,
   "metadata": {},
   "outputs": [],
   "source": [
    "Orders_count_week = df.groupby(['Year_Week_Number'])['value'].count()"
   ]
  },
  {
   "cell_type": "code",
   "execution_count": 21,
   "metadata": {},
   "outputs": [
    {
     "data": {
      "text/plain": [
       "Year_Week_Number\n",
       "2017-01    175\n",
       "2017-02    259\n",
       "2017-03    356\n",
       "2017-04    287\n",
       "2017-05    209\n",
       "2017-06    198\n",
       "2017-07    233\n",
       "2017-08    314\n",
       "2017-09    271\n",
       "2017-10    319\n",
       "Name: value, dtype: int64"
      ]
     },
     "execution_count": 21,
     "metadata": {},
     "output_type": "execute_result"
    }
   ],
   "source": [
    "Orders_count_week[:10]"
   ]
  },
  {
   "cell_type": "markdown",
   "metadata": {},
   "source": [
    "### B). Plot the count of orders per week for the store"
   ]
  },
  {
   "cell_type": "code",
   "execution_count": 22,
   "metadata": {},
   "outputs": [],
   "source": [
    "\n",
    "%matplotlib inline\n",
    "import matplotlib.pyplot as plt\n",
    "plt.rcParams['figure.figsize'] = (20, 12)"
   ]
  },
  {
   "cell_type": "code",
   "execution_count": 23,
   "metadata": {},
   "outputs": [
    {
     "data": {
      "image/png": "[encoded data removed]",
      "text/plain": [
       "<Figure size 1440x864 with 1 Axes>"
      ]
     },
     "metadata": {
      "needs_background": "light"
     },
     "output_type": "display_data"
    }
   ],
   "source": [
    "axis = Orders_count_week.plot.bar()\n",
    "\n",
    "for p in axis.patches: axis.annotate(np.round(p.get_height(),decimals=3), (p.get_x()+p.get_width()/2., p.get_height()), ha='center', va='center', xytext=(0, 10), textcoords='offset points')\n",
    "\n",
    "plt.title('Count of orders per week',fontsize=30)\n",
    "\n",
    "plt.ylabel('Orders count',fontsize=25)\n",
    "plt.xlabel('Year-week-number',fontsize=25)\n",
    "plt.show()"
   ]
  },
  {
   "cell_type": "markdown",
   "metadata": {},
   "source": [
    "### C). Compute the mean order value for gender 0 and for gender 1. Do you think the difference is significant?"
   ]
  },
  {
   "cell_type": "code",
   "execution_count": 24,
   "metadata": {},
   "outputs": [
    {
     "name": "stdout",
     "output_type": "stream",
     "text": [
      "\n",
      "Mean order value for gender 0 and for gender 1:\n",
      "----------------------------------------------\n",
      " mean order value of '0' gender is 364.0\n"
     ]
    }
   ],
   "source": [
    "print(\"\"\"\n",
    "Mean order value for gender 0 and for gender 1:\n",
    "----------------------------------------------\"\"\")\n",
    "#mean of '0' Gender\n",
    "mean_0_gen = df.groupby('gender')['value'].mean()[0]\n",
    "\n",
    "print(\" mean order value of '0' gender is \" + str(round(mean_0_gen)))\n",
    "\n",
    "\n"
   ]
  },
  {
   "cell_type": "code",
   "execution_count": 25,
   "metadata": {},
   "outputs": [
    {
     "name": "stdout",
     "output_type": "stream",
     "text": [
      "Mean order value of '1' gender is 351.0\n"
     ]
    }
   ],
   "source": [
    "# computing mean of gender1\n",
    "mean_1_gen = df.groupby('gender')['value'].mean()[1]\n",
    "print(\"Mean order value of '1' gender is \" + str(round(mean_1_gen)))\n",
    "\n",
    "\n"
   ]
  },
  {
   "cell_type": "code",
   "execution_count": 26,
   "metadata": {},
   "outputs": [
    {
     "name": "stdout",
     "output_type": "stream",
     "text": [
      "\n",
      "Check whether difference between genders mean order value is significant:\n",
      "-------------------------------------------------------------------------\n",
      " To check if difference is significant between gender 1 and gender 0\n",
      " t value is 1.98\n"
     ]
    }
   ],
   "source": [
    "print(\"\"\"\n",
    "Check whether difference between genders mean order value is significant:\n",
    "-------------------------------------------------------------------------\"\"\")\n",
    "\n",
    "N = (df['customer_id'].count())/2\n",
    "\n",
    "                                                     \n",
    "print(\" To check if difference is significant between gender 1 and gender 0\")\n",
    "\n",
    "var_0_gen = df.groupby('gender')['value'].var(ddof=1)[0]\n",
    "\n",
    "# computing variance of gender1\n",
    "var_1_gen = df.groupby('gender')['value'].var(ddof=1)[1]\n",
    "\n",
    "s = np.sqrt((var_0_gen + var_1_gen)/2)\n",
    "t = (mean_0_gen - mean_1_gen)/(s*np.sqrt(2/N))\n",
    "\n",
    "print(\" t value is \" + str(round(t,2)))\n",
    "\n",
    "\n"
   ]
  },
  {
   "cell_type": "code",
   "execution_count": 27,
   "metadata": {},
   "outputs": [
    {
     "name": "stdout",
     "output_type": "stream",
     "text": [
      " p value is 0.0482\n",
      "\n",
      "\n"
     ]
    }
   ],
   "source": [
    "from scipy import stats \n",
    "\n",
    "# Degree of freedom\n",
    "df = 2*N - 2\n",
    "\n",
    "# p-value after comparison with the t \n",
    "p = 1 - stats.t.cdf(t,df=df)\n",
    "\n",
    "# multiply p value with 2 because its a two tail t-test\n",
    "p_new = round(2*p,4)\n",
    "\n",
    "print(\" p value is \" + str(p_new))\n",
    "print(\"\\n\")\n",
    "\n"
   ]
  },
  {
   "cell_type": "code",
   "execution_count": 28,
   "metadata": {},
   "outputs": [
    {
     "name": "stdout",
     "output_type": "stream",
     "text": [
      "we can infer from above that after comparing the t statistic with the critical t value  we get a good p value of 0.0482 and thus we reject the null hypothesis and thus it proves that the \"mean order value of the two genders are different and statistically significant\" \n"
     ]
    }
   ],
   "source": [
    "if ( p_new < 0.05 ):\n",
    "    print(\"\"\"we can infer from above that after comparing the t statistic with the critical t value  we get a good p value of \"\"\" +  str(round(2*p,4))  + \"\"\" and thus we reject the null hypothesis and thus it proves that the \"mean order value of the two genders are different and statistically significant\" \"\"\")\n",
    "else:\n",
    "    print(\"\"\"we can infer from above that after comparing the t statistic with the critical t value  we get a good p value of \"\"\" +  str(round(2*p,4))  + \"\"\" and thus we accept the null hypothesis and thus it proves that the \"mean order value of the two genders are same\" \"\"\")\n"
   ]
  },
  {
   "cell_type": "code",
   "execution_count": 29,
   "metadata": {},
   "outputs": [
    {
     "name": "stdout",
     "output_type": "stream",
     "text": [
      "Null Hypothesis : Mean order values of gender 0 and gender 1 are the same\n",
      "\n",
      "\n",
      "Alternate Hypothesis : Mean order values of gender 0 and gender 1 are the different\n",
      "\n",
      "\n"
     ]
    }
   ],
   "source": [
    "\n",
    "print(\"Null Hypothesis : Mean order values of gender 0 and gender 1 are the same\")\n",
    "print(\"\\n\")\n",
    "print(\"Alternate Hypothesis : Mean order values of gender 0 and gender 1 are the different\")\n",
    "print(\"\\n\")"
   ]
  },
  {
   "cell_type": "markdown",
   "metadata": {},
   "source": [
    "### D). Assuming a single gender prediction was made for each customer, generate a confusion matrix for predicted gender. What does the confusion matrix tell you about the quality of the predictions?"
   ]
  },
  {
   "cell_type": "code",
   "execution_count": 30,
   "metadata": {},
   "outputs": [],
   "source": [
    "from sklearn.metrics import confusion_matrix\n",
    "from sklearn.metrics import accuracy_score"
   ]
  },
  {
   "cell_type": "code",
   "execution_count": 31,
   "metadata": {},
   "outputs": [],
   "source": [
    "df2=pd.read_csv(f'{my_path}/screening_exercise_orders_v201810.csv')"
   ]
  },
  {
   "cell_type": "code",
   "execution_count": 32,
   "metadata": {},
   "outputs": [],
   "source": [
    "df2_predicted=['customer_id','gender', 'predicted_gender']"
   ]
  },
  {
   "cell_type": "code",
   "execution_count": 33,
   "metadata": {},
   "outputs": [],
   "source": [
    "df2['new_Predicted_gender'] = df2.apply(lambda x: 1, axis=1)"
   ]
  },
  {
   "cell_type": "code",
   "execution_count": 35,
   "metadata": {},
   "outputs": [
    {
     "name": "stdout",
     "output_type": "stream",
     "text": [
      "True Negatives:  0\n",
      "False Positives:  6759\n",
      "False Negatives:  0\n",
      "True Positives:  6712\n"
     ]
    }
   ],
   "source": [
    "tn, fp, fn, tp = confusion_matrix(df2['gender'], df2['new_Predicted_gender']).ravel()\n",
    "\n",
    "print(\"True Negatives: \",tn)\n",
    "print(\"False Positives: \",fp)\n",
    "print(\"False Negatives: \",fn)\n",
    "print(\"True Positives: \",tp)"
   ]
  },
  {
   "cell_type": "markdown",
   "metadata": {},
   "source": [
    "### As we are assuming single gender prediction case is considered (I have considered gender prediction = 1 for all), FN and TN will be equal to zero. The positive count is TP = 6712 and rest of FP = 6759."
   ]
  },
  {
   "cell_type": "code",
   "execution_count": 36,
   "metadata": {},
   "outputs": [
    {
     "name": "stdout",
     "output_type": "stream",
     "text": [
      "0.4982555118402494\n"
     ]
    }
   ],
   "source": [
    "\n",
    "print (accuracy_score(df2['gender'], df2['new_Predicted_gender']))"
   ]
  },
  {
   "cell_type": "markdown",
   "metadata": {},
   "source": [
    "### The quality of prediction is approx. 50% accurate due to gender column values are not left or right skewed. Meaning equal number of gender = 0 and gender = 1 values are present. We can also notice that recall = 1 meaning our precision of classifying genders is less and is biased to capturing only gender = 1 customers. We captured all gender = 1 customers but also missed out a lot on capturing gender = 0 customers."
   ]
  },
  {
   "cell_type": "markdown",
   "metadata": {},
   "source": [
    "### E).   Describe one of your favorite tools or techniques and give a small example of how it’s helped you solve a problem. Limit your answer to one paragraph."
   ]
  },
  {
   "cell_type": "markdown",
   "metadata": {},
   "source": [
    "#### Answer: My favorite tool for Data Analysis and problem solving has always been Jupyter for Python Programming . It is Very easy to use for performing statistical analysis, modelling, cleaning and visualizing the data. I would like to give an example of how I used Jupyter - I have worked on Natural Language Processing topics as my personal projects, I have used Jupyter for Text Pre processing and Web Scraping.  Then create interactive visualization, Effective text mining with use of regular expressions. I have used ngram model creation along with NLTK with a visualized display of BOW, POS and WordCloud. It was very easy to expalin the insights to others and create interest to use this tool."
   ]
  },
  {
   "cell_type": "code",
   "execution_count": null,
   "metadata": {},
   "outputs": [],
   "source": []
  }
 ],
 "metadata": {
  "kernelspec": {
   "display_name": "Python 3",
   "language": "python",
   "name": "python3"
  },
  "language_info": {
   "codemirror_mode": {
    "name": "ipython",
    "version": 3
   },
   "file_extension": ".py",
   "mimetype": "text/x-python",
   "name": "python",
   "nbconvert_exporter": "python",
   "pygments_lexer": "ipython3",
   "version": "3.6.8"
  }
 },
 "nbformat": 4,
 "nbformat_minor": 2
}
